{
 "cells": [
  {
   "cell_type": "code",
   "execution_count": 1,
   "id": "c676cdf8-408d-4ebf-80b0-61bd324e939f",
   "metadata": {},
   "outputs": [],
   "source": [
    "import os\n",
    "from glob import glob\n",
    "import cv2"
   ]
  },
  {
   "cell_type": "code",
   "execution_count": 2,
   "id": "b17b3c3f-f491-47a3-9c01-edbbb8c19b2d",
   "metadata": {},
   "outputs": [
    {
     "name": "stdout",
     "output_type": "stream",
     "text": [
      "C:\\Users\\anapl\\CDAL\\poscoICT\\darknet_fruits\\dataset\\test_annot\n"
     ]
    }
   ],
   "source": [
    "%cd test_annot"
   ]
  },
  {
   "cell_type": "code",
   "execution_count": 3,
   "id": "02f9580a-0c48-4849-b27b-ccae21ecb0af",
   "metadata": {},
   "outputs": [],
   "source": [
    "test = glob('*.txt')\n",
    "images = glob('*.jpg')"
   ]
  },
  {
   "cell_type": "code",
   "execution_count": 5,
   "id": "3c0da5e8-1cf9-45aa-b31c-32a2345f8a52",
   "metadata": {},
   "outputs": [
    {
     "name": "stdout",
     "output_type": "stream",
     "text": [
      "apple_77.txt\n",
      "apple_78.txt\n",
      "apple_79.txt\n",
      "apple_80.txt\n",
      "apple_81.txt\n",
      "apple_82.txt\n",
      "apple_83.txt\n",
      "apple_84.txt\n",
      "apple_85.txt\n",
      "apple_86.txt\n",
      "apple_87.txt\n",
      "apple_88.txt\n",
      "apple_89.txt\n",
      "apple_90.txt\n",
      "apple_91.txt\n",
      "apple_92.txt\n",
      "apple_93.txt\n",
      "apple_94.txt\n",
      "apple_95.txt\n",
      "banana_77.txt\n",
      "banana_78.txt\n",
      "banana_79.txt\n",
      "banana_80.txt\n",
      "banana_81.txt\n",
      "banana_82.txt\n",
      "banana_83.txt\n",
      "banana_84.txt\n",
      "banana_85.txt\n",
      "banana_86.txt\n",
      "banana_87.txt\n",
      "banana_88.txt\n",
      "banana_89.txt\n",
      "banana_90.txt\n",
      "banana_91.txt\n",
      "banana_92.txt\n",
      "banana_93.txt\n",
      "banana_94.txt\n",
      "mixed_21.txt\n",
      "mixed_22.txt\n",
      "mixed_23.txt\n",
      "mixed_24.txt\n",
      "mixed_25.txt\n",
      "orange_77.txt\n",
      "orange_78.txt\n",
      "orange_79.txt\n",
      "orange_80.txt\n",
      "orange_81.txt\n",
      "orange_82.txt\n",
      "orange_83.txt\n",
      "orange_84.txt\n",
      "orange_85.txt\n",
      "orange_86.txt\n",
      "orange_87.txt\n",
      "orange_89.txt\n",
      "orange_90.txt\n",
      "orange_91.txt\n",
      "orange_92.txt\n",
      "orange_93.txt\n",
      "orange_94.txt\n",
      "orange_95.txt\n"
     ]
    }
   ],
   "source": [
    "for idx, txt in enumerate(test):\n",
    "    print(txt)\n",
    "    jpg = images[idx]\n",
    "    image = cv2.imread(jpg)\n",
    "    with open(txt) as r:\n",
    "        text = r.read()\n",
    "        HEIGHT, WIDTH, CHANNELS = image.shape\n",
    "        text = text.replace('apple', '0')\n",
    "        text = text.replace('banana', '1')\n",
    "        text = text.replace('orange', '2')\n",
    "        # print(text)\n",
    "        # print(image.shape)\n",
    "        lst = text.split('\\n')\n",
    "        # print(lst)\n",
    "        for idx, annot in enumerate(lst):\n",
    "            # print(annot.split())\n",
    "            label, x_min, y_min, x_max, y_max = [int(x) for x in annot.split()]\n",
    "            x = (x_min + x_max) / 2 / WIDTH -1\n",
    "            y = (y_min + y_max) / 2 / HEIGHT -1\n",
    "            width = (x_max - x_min) / WIDTH\n",
    "            height = (y_max - y_min) / HEIGHT\n",
    "            \n",
    "            # x, y, width, height = float(x)/WIDTH, float(y)/HEIGHT, float(width)/WIDTH, float(height)/HEIGHT\n",
    "            # x, y, width, height = [round(_, 4) for _ in (x, y, width, height)]\n",
    "            annot = ' '.join([str(x) for x in (label, x, y, width, height)])\n",
    "            \n",
    "            lst[idx] = annot\n",
    "        # print(lst)\n",
    "        # print('\\n'.join(lst))\n",
    "        text = '\\n'.join(lst)\n",
    "        # break\n",
    "        with open(rf'C:\\Users\\anapl\\CDAL\\poscoICT\\darknet_fruits\\dataset\\test\\{txt}', 'w') as f:\n",
    "            f.write(text)"
   ]
  },
  {
   "cell_type": "code",
   "execution_count": null,
   "id": "f97ec2d7-b25b-4a5a-88bb-5f47e5e15c85",
   "metadata": {},
   "outputs": [],
   "source": []
  }
 ],
 "metadata": {
  "kernelspec": {
   "display_name": "Python 3",
   "language": "python",
   "name": "python3"
  },
  "language_info": {
   "codemirror_mode": {
    "name": "ipython",
    "version": 3
   },
   "file_extension": ".py",
   "mimetype": "text/x-python",
   "name": "python",
   "nbconvert_exporter": "python",
   "pygments_lexer": "ipython3",
   "version": "3.8.8"
  }
 },
 "nbformat": 4,
 "nbformat_minor": 5
}
